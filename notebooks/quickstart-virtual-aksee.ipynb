{
 "cells": [
  {
   "cell_type": "markdown",
   "metadata": {},
   "source": [
    "# Quickstart: Deploy Azure IoT Operations to an Arc-enabled Kubernetes cluster using Codespaces and AKS EE\n",
    "\n",
    "<div class=\"alert alert-block alert-info\">\n",
    "<b>IMPORTANT:</b> Azure IoT Operations Preview – enabled by Azure Arc is currently in PREVIEW.\n",
    "You shouldn't use this preview software in production environments.\n",
    "\n",
    "See the [Supplemental Terms of Use for Microsoft Azure Previews](https://azure.microsoft.com/support/legal/preview-supplemental-terms/) for legal terms that apply to Azure features that are in beta, preview, or otherwise not yet released into general availability.</div>\n",
    "\n",
    "In this quickstart, you will deploy a suite of IoT services to an Azure Arc-enabled Kubernetes cluster so that you can remotely manage your devices and workloads. Azure IoT Operations Preview is a digital operations suite of services that includes Azure IoT Orchestrator. This quickstart guides you through using Orchestrator to deploy these services to a Kubernetes cluster. At the end of the quickstart, you have a cluster that you can manage from the cloud that's generating sample data to use in the following quickstarts.\n",
    "\n",
    "The services deployed in this quickstart include:\n",
    "\n",
    "* [Azure IoT Orchestrator](../deploy-custom/overview-orchestrator.md)\n",
    "* [Azure IoT MQ](../manage-mqtt-connectivity/overview-iot-mq.md)\n",
    "* [Azure IoT OPC UA broker](../manage-devices-assets/overview-opcua-broker.md) with simulated thermostat asset to start generating data\n",
    "* [Azure IoT Data Processor](../process-data/overview-data-processor.md) with a demo pipeline to start routing the simulated data\n",
    "* [Azure IoT Akri](../manage-devices-assets/overview-akri.md)\n",
    "* [Azure Device Registry](../manage-devices-assets/overview-manage-assets.md#manage-assets-as-azure-resources-in-a-centralized-registry)\n",
    "* [Azure IoT Layered Network Management](../manage-layered-network/overview-layered-network.md)\n",
    "* [Observability](../monitor/howto-configure-observability.md)\n",
    "\n",
    "## Prerequisites\n",
    "To prepare your Azure Arc-enabled Kubernetes cluster, you need:\n",
    "\n",
    "- An Azure subscription. If you don't have an Azure subscription, create a [free account](https://azure.microsoft.com/free/?WT.mc_id=A261C142F) before you begin.\n",
    "- [Azure CLI version 2.42.0 or newer installed](/cli/azure/install-azure-cli) on your development machine.\n",
    "- Hardware that meets the [system requirements](/azure/azure-arc/kubernetes/system-requirements).\n",
    "\n",
    "### Create a cluster\n",
    "\n",
    "This section provides steps to prepare and Arc-enable clusters in validated environments on Linux and Windows as well as GitHub Codespaces in the cloud.\n",
    "\n",
    "[Azure Kubernetes Service Edge Essentials](/azure/aks/hybrid/aks-edge-overview) is an on-premises Kubernetes implementation of Azure Kubernetes Service (AKS) that automates running containerized applications at scale. AKS Edge Essentials includes a Microsoft-supported Kubernetes platform that includes a lightweight Kubernetes distribution with a small footprint and simple installation experience, making it easy for you to deploy Kubernetes on PC-class or \"light\" edge hardware.\n",
    "\n",
    "1. Sign in to Azure CLI on your development machine or in your codespace terminal. To prevent potential permission issues later, sign in interactively with a browser here even if you've already logged in before.\n",
    "\n",
    "```azurecli\n",
    "az login\n",
    "```\n",
    "\n",
    "> [!NOTE]\n",
    "> When using a Github codespace in a browser, `az login` returns a localhost error in the browser window after logging in. To fix, either:\n",
    ">\n",
    "> * Open the codespace in VS Code desktop, and then run `az login` again in the browser terminal.\n",
    "> * After you get the localhost error on the browser, copy the URL from the browser and run `curl \"<URL>\"` in a new terminal tab. You should see a JSON response with the message \"You have logged into Microsoft Azure!.\"\n",
    "\n",
    "1. Set environment variables for the rest of the setup. Replace values in `<>` with valid values or names of your choice. A new cluster and resource group are created in your Azure subscription based on the names you provide:"
   ]
  },
  {
   "cell_type": "code",
   "execution_count": null,
   "metadata": {
    "vscode": {
     "languageId": "polyglot-notebook"
    }
   },
   "outputs": [],
   "source": [
    "# Azure region where the created resource group will be located\n",
    "# Currently supported regions: \"eastus\", \"eastus2\", \"westus\", \"westus2\", \"westus3\", \"westeurope\", or \"northeurope\"\n",
    "$LOCATION=\"WestUS3\"\n",
    "\n",
    "$RESOURCE_GROUP = Read-Host -Prompt \"Name of a new resource group to create which will hold the Arc-enabled cluster and Alice Springs resources\"\n",
    "Write-Host \"Resource group: $RESOURCE_GROUP\" -ForegroundColor Blue\n",
    "\n",
    "$CLUSTER_NAME = Read-Host -Prompt \"Name of the Arc-enabled cluster to create in your resource group\"\n",
    "Write-Host \"Arc cluster name: $CLUSTER_NAME\" -ForegroundColor Blue"
   ]
  },
  {
   "cell_type": "markdown",
   "metadata": {},
   "source": [
    "1. Set the Azure subscription context for all commands:"
   ]
  },
  {
   "cell_type": "code",
   "execution_count": null,
   "metadata": {
    "vscode": {
     "languageId": "polyglot-notebook"
    }
   },
   "outputs": [],
   "source": [
    "# Id of the subscription where your resource group and Arc-enabled cluster will be created\n",
    "\n",
    "$SUBSCRIPTION_ID = (az account show --query id -o tsv)\n",
    "$TENANT_ID = (az account show --query tenantId -o tsv)\n",
    "az account set -s $SUBSCRIPTION_ID"
   ]
  },
  {
   "cell_type": "markdown",
   "metadata": {},
   "source": [
    ">[!TIP]\n",
    ">You can use the [AksEdgeQuickStartForAio.ps1](https://github.com/Azure/AKS-Edge/blob/main/tools/scripts/AksEdgeQuickStart/AksEdgeQuickStartForAio.ps1) script to automate the steps in this section and connect your cluster.\n",
    "\n",
    "In an elevated PowerShell window, run the following commands:"
   ]
  },
  {
   "cell_type": "code",
   "execution_count": null,
   "metadata": {
    "vscode": {
     "languageId": "polyglot-notebook"
    }
   },
   "outputs": [],
   "source": [
    "$url = \"https://raw.githubusercontent.com/Azure/AKS-Edge/main/tools/scripts/AksEdgeQuickStart/AksEdgeQuickStartForAio.ps1\"\n",
    "Invoke-WebRequest -Uri $url -OutFile .\\AksEdgeQuickStartForAio.ps1\n",
    "Unblock-File .\\AksEdgeQuickStartForAio.ps1\n",
    "Set-ExecutionPolicy -ExecutionPolicy Bypass -Scope Process -Force\n",
    ".\\AksEdgeQuickStartForAio.ps1 -SubscriptionId $SUBSCRIPTION_ID -TenantId $TENANT_ID -ResourceGroupName $RESOURCE_GROUP  -Location $LOCATION  -ClusterName $CLUSTER_NAME"
   ]
  },
  {
   "cell_type": "markdown",
   "metadata": {},
   "source": [
    ">Your machine might reboot as part of this process. If so, run the whole set of commands again.\n",
    "\n",
    "Prepare your machine for AKS Edge Essentials.\n",
    "\n",
    "1. Download the [installer for the validated AKS Edge Essentials](https://aka.ms/aks-edge/msi-k3s-1.2.414.0) version to your local machine.\n",
    "\n",
    "1. Complete the steps in [Prepare your machine for AKS Edge Essentials](/azure/aks/hybrid/aks-edge-howto-setup-machine). Be sure to use the validated installer you downloaded in the previous step and not the most recent version.\n",
    "\n",
    "Set up an AKS Edge Essentials cluster on your machine.\n",
    "\n",
    "1. Complete the steps in [Create a single machine deployment](/azure/aks/hybrid/aks-edge-howto-single-node-deployment).\n",
    "\n",
    "    At the end of [Step 1: single machine configuration parameters](/azure/aks/hybrid/aks-edge-howto-single-node-deployment#step-1-single-machine-configuration-parameters), modify the following values in the _aksedge-config.json_ file as follows:\n",
    "\n",
    "    ```json\n",
    "    `Init.ServiceIPRangeSize` = 10\n",
    "    `LinuxNode.DataSizeInGB` = 30\n",
    "    `LinuxNode.MemoryInMB` = 8192\n",
    "    ```\n",
    "\n",
    "1. Install **local-path** storage in the cluster by running the following command:"
   ]
  },
  {
   "cell_type": "code",
   "execution_count": null,
   "metadata": {
    "vscode": {
     "languageId": "polyglot-notebook"
    }
   },
   "outputs": [],
   "source": [
    "kubectl apply -f https://raw.githubusercontent.com/Azure/AKS-Edge/main/samples/storage/local-path-provisioner/local-path-storage.yaml"
   ]
  },
  {
   "cell_type": "markdown",
   "metadata": {},
   "source": [
    "---\n",
    "## Arc-enable your cluster\n",
    "\n",
    "To connect your cluster to Azure Arc:\n",
    "\n",
    "1. Register the required resource providers in your subscription:"
   ]
  },
  {
   "cell_type": "code",
   "execution_count": null,
   "metadata": {
    "dotnet_interactive": {
     "language": "pwsh"
    },
    "polyglot_notebook": {
     "kernelName": "pwsh"
    },
    "vscode": {
     "languageId": "polyglot-notebook"
    }
   },
   "outputs": [],
   "source": [
    "az provider register -n \"Microsoft.ExtendedLocation\"\n",
    "az provider register -n \"Microsoft.Kubernetes\"\n",
    "az provider register -n \"Microsoft.KubernetesConfiguration\"\n",
    "az provider register -n \"Microsoft.IoTOperationsOrchestrator\"\n",
    "az provider register -n \"Microsoft.IoTOperationsMQ\"\n",
    "az provider register -n \"Microsoft.IoTOperationsDataProcessor\"\n",
    "az provider register -n \"Microsoft.DeviceRegistry\""
   ]
  },
  {
   "cell_type": "markdown",
   "metadata": {},
   "source": [
    "1. Use the [az group create](/cli/azure/group#az-group-create) command to create a resource group in your Azure subscription to store all the resources:"
   ]
  },
  {
   "cell_type": "code",
   "execution_count": null,
   "metadata": {
    "dotnet_interactive": {
     "language": "pwsh"
    },
    "polyglot_notebook": {
     "kernelName": "pwsh"
    },
    "vscode": {
     "languageId": "polyglot-notebook"
    }
   },
   "outputs": [],
   "source": [
    "az group create --location $LOCATION --resource-group $RESOURCE_GROUP --subscription $SUBSCRIPTION_ID"
   ]
  },
  {
   "cell_type": "markdown",
   "metadata": {},
   "source": [
    "1. Use the [az connectedk8s connect](/cli/azure/connectedk8s#az-connectedk8s-connect) command to Arc-enable your Kubernetes cluster and manage it in the resource group you created in the previous step:"
   ]
  },
  {
   "cell_type": "code",
   "execution_count": null,
   "metadata": {
    "dotnet_interactive": {
     "language": "pwsh"
    },
    "polyglot_notebook": {
     "kernelName": "pwsh"
    },
    "vscode": {
     "languageId": "polyglot-notebook"
    }
   },
   "outputs": [],
   "source": [
    "az connectedk8s connect -n $CLUSTER_NAME -l $LOCATION -g $RESOURCE_GROUP --subscription $SUBSCRIPTION_ID"
   ]
  },
  {
   "cell_type": "markdown",
   "metadata": {},
   "source": [
    "1. Fetch the `objectId` or `id` of the Microsoft Entra ID application that the Azure Arc service uses."
   ]
  },
  {
   "cell_type": "code",
   "execution_count": null,
   "metadata": {
    "dotnet_interactive": {
     "language": "pwsh"
    },
    "polyglot_notebook": {
     "kernelName": "pwsh"
    },
    "vscode": {
     "languageId": "polyglot-notebook"
    }
   },
   "outputs": [],
   "source": [
    "$OBJECT_ID = (az ad sp show --id bc313c14-388c-4e7d-a58e-70017303ee3b --query id -o tsv)"
   ]
  },
  {
   "cell_type": "markdown",
   "metadata": {},
   "source": [
    "1. Use the [az connectedk8s enable-features](/cli/azure/connectedk8s#az-connectedk8s-enable-features) command to enable custom location support on your cluster. Use the `objectId` or `id` value from the previous command to enable custom locations on the cluster:"
   ]
  },
  {
   "cell_type": "code",
   "execution_count": null,
   "metadata": {
    "dotnet_interactive": {
     "language": "pwsh"
    },
    "polyglot_notebook": {
     "kernelName": "pwsh"
    },
    "vscode": {
     "languageId": "polyglot-notebook"
    }
   },
   "outputs": [],
   "source": [
    "az connectedk8s enable-features -n $CLUSTER_NAME -g $RESOURCE_GROUP --custom-locations-oid <objectId/id> --features cluster-connect custom-locations"
   ]
  },
  {
   "cell_type": "markdown",
   "metadata": {},
   "source": [
    "## Verify your cluster\n",
    "\n",
    "To verify that your Kubernetes cluster is now Azure Arc-enabled, run the following command:"
   ]
  },
  {
   "cell_type": "code",
   "execution_count": null,
   "metadata": {
    "vscode": {
     "languageId": "polyglot-notebook"
    }
   },
   "outputs": [],
   "source": [
    "kubectl get deployments,pods -n azure-arc"
   ]
  },
  {
   "cell_type": "markdown",
   "metadata": {},
   "source": [
    "---\n",
    "\n",
    "## Configure cluster and deploy Azure IoT Operations\n",
    "\n",
    "Part of the deployment process is to configure your cluster so that it can communicate securely with your Azure IoT Operations components and key vault. The Azure CLI command `az iot ops init` does this for you. Once your cluster is configured, then you can deploy Azure IoT Operations.\n",
    "\n",
    "Use the Azure CLI to create a key vault, build the `az iot ops init` command based on your resources, and then deploy Azure IoT Operations components to your Arc-enabled Kubernetes cluster.\n",
    "\n",
    "### Create a key vault\n",
    "\n",
    "You can use an existing key vault for your secrets, but verify that the **Permission model** is set to **Vault access policy**. You can check this setting in the Azure portal in the **Access configuration** section of an existing key vault. Or use the [az keyvault show](/cli/azure/keyvault#az-keyvault-show) command to check that `enableRbacAuthorization` is false.\n",
    "\n",
    "To create a new key vault, use the following command:"
   ]
  },
  {
   "cell_type": "code",
   "execution_count": null,
   "metadata": {
    "dotnet_interactive": {
     "language": "pwsh"
    },
    "polyglot_notebook": {
     "kernelName": "pwsh"
    },
    "vscode": {
     "languageId": "polyglot-notebook"
    }
   },
   "outputs": [],
   "source": [
    "$KEY_VAULT_NAME = Read-Host -Prompt \"Name of the key vault to create in your resource group\"\n",
    "\n",
    "az keyvault create --enable-rbac-authorization false --name $KEY_VAULT_NAME --resource-group $RESOURCE_GROUP"
   ]
  },
  {
   "cell_type": "markdown",
   "metadata": {},
   "source": [
    "\n",
    "### Deploy Azure IoT Operations\n",
    "\n",
    "1. In the Azure portal search bar, search for and select **Azure Arc**.\n",
    "\n",
    "1. Select **Azure IoT Operations (preview)** from the **Application services** section of the Azure Arc menu.\n",
    "\n",
    "   :::image type=\"content\" source=\"./media/quickstart-deploy/arc-iot-operations.png\" alt-text=\"Screenshot of selecting Azure IoT Operations from Azure Arc.\":::\n",
    "\n",
    "1. Select **Create**.\n",
    "\n",
    "1. On the **Basics** tab of the **Install Azure IoT Operations Arc Extension** page, provide the following information:\n",
    "\n",
    "   | Field | Value |\n",
    "   | ----- | ----- |\n",
    "   | **Subscription** | Select the subscription that contains your Arc-enabled Kubernetes cluster. |\n",
    "   | **Resource group** | Select the resource group that contains your Arc-enabled Kubernetes cluster. |\n",
    "   | **Cluster name** | Select your cluster. When you do, the **Custom location** and **Deployment details** sections autofill. |\n",
    "\n",
    "   :::image type=\"content\" source=\"./media/quickstart-deploy/install-extension-basics.png\" alt-text=\"Screenshot of the basics tab for installing the Azure IoT Operations Arc extension in the Azure portal.\":::\n",
    "\n",
    "1. Select **Next: Configuration**.\n",
    "\n",
    "1. On the **Configuration** tab, provide the following information:\n",
    "\n",
    "   | Field | Value |\n",
    "   | ----- | ----- |\n",
    "   | **Deploy a simulated PLC** | Switch this toggle to **Yes**. The simulated PLC creates demo telemetry data that you use in the following quickstarts. |\n",
    "   | **Mode** | Set the MQ configuration mode to **Auto**. |\n",
    "\n",
    "   :::image type=\"content\" source=\"./media/quickstart-deploy/install-extension-configuration.png\" alt-text=\"Screenshot of the configuration tab for installing the Azure IoT Operations Arc extension in the Azure portal.\":::\n",
    "\n",
    "1. Select **Next: Automation**.\n",
    "\n",
    "1. On the **Automation** tab, select **Pick or create an Azure Key Vault**.\n",
    "\n",
    "   :::image type=\"content\" source=\"./media/quickstart-deploy/install-extension-automation-1.png\" alt-text=\"Screenshot of selecting your key vault in the automation tab for installing the Azure IoT Operations Arc extension in the Azure portal.\":::\n",
    "\n",
    "1. Provide the following information to connect a key vault:\n",
    "\n",
    "   | Field | Value |\n",
    "   | ----- | ----- |\n",
    "   | **Subscription** | Select the subscription that contains your Arc-enabled Kubernetes cluster. |\n",
    "   | **Key vault** | Choose the key vault that you created in the previous section from the drop-down list. |\n",
    "\n",
    "1. Select **Select**.\n",
    "\n",
    "1. On the **Automation** tab, the automation commands are populated based on your chosen cluster and key vault. Copy the **Required** CLI command.\n",
    "\n",
    "   :::image type=\"content\" source=\"./media/quickstart-deploy/install-extension-automation-2.png\" alt-text=\"Screenshot of copying the CLI command from the automation tab for installing the Azure IoT Operations Arc extension in the Azure portal.\":::\n",
    "\n",
    "1. Run the `az iot ops init` command on your development machine or in your codespace terminal.\n",
    "\n",
    "   >[!TIP]\n",
    "   >If you get an error that says *Your device is required to be managed to access your resource*, go back to the previous step and make sure that you signed in interactively.\n",
    "\n"
   ]
  },
  {
   "cell_type": "code",
   "execution_count": null,
   "metadata": {
    "dotnet_interactive": {
     "language": "pwsh"
    },
    "polyglot_notebook": {
     "kernelName": "pwsh"
    },
    "vscode": {
     "languageId": "polyglot-notebook"
    }
   },
   "outputs": [],
   "source": [
    "# Remove old extensions:\n",
    "az extension remove --name azure-iot-ops\n",
    "az extension remove --name azure-edge\n",
    "\n",
    "# Install extension \"0.1.0b1\"\n",
    "az extension add --source $(curl -w \"%{url_effective}\\n\" -I -L -s -S https://aka.ms/aziotopscli-latest -o /dev/null) -y"
   ]
  },
  {
   "cell_type": "code",
   "execution_count": null,
   "metadata": {
    "dotnet_interactive": {
     "language": "pwsh"
    },
    "polyglot_notebook": {
     "kernelName": "pwsh"
    },
    "vscode": {
     "languageId": "polyglot-notebook"
    }
   },
   "outputs": [],
   "source": [
    "az iot ops init"
   ]
  },
  {
   "cell_type": "markdown",
   "metadata": {},
   "source": [
    "1. Return to the Azure portal and select **Review + Create**.\n",
    "\n",
    "1. Wait for the validation to pass and then select **Create**.\n",
    "\n",
    "## View resources in your cluster\n",
    "\n",
    "While the deployment is in progress, you can watch the resources being applied to your cluster. You can use kubectl commands to observe changes on the cluster or, since the cluster is Arc-enabled, you can use the Azure portal.\n",
    "\n",
    "To view the pods on your cluster, run the following command:"
   ]
  },
  {
   "cell_type": "code",
   "execution_count": null,
   "metadata": {
    "dotnet_interactive": {
     "language": "pwsh"
    },
    "polyglot_notebook": {
     "kernelName": "pwsh"
    },
    "vscode": {
     "languageId": "polyglot-notebook"
    }
   },
   "outputs": [],
   "source": [
    "#!pwsh\n",
    "kubectl get pods -n azure-iot-operations"
   ]
  },
  {
   "cell_type": "markdown",
   "metadata": {},
   "source": [
    "\n",
    "It can take several minutes for the deployment to complete. Continue running the `get pods` command to refresh your view.\n",
    "\n",
    "To view your cluster on the Azure portal, use the following steps:\n",
    "\n",
    "1. In the Azure portal, navigate to the resource group that contains your cluster.\n",
    "\n",
    "1. From the **Overview** of the resource group, select the name of your cluster.\n",
    "\n",
    "1. On your cluster, select **Extensions** from the menu.\n",
    "\n",
    "   You can see that your cluster is running extensions of the type **microsoft.iotoperations.x**, which is the group name for all of the Azure IoT Operations components and the orchestration service.\n",
    "\n",
    "   There's also an extension called **akvsecretsprovider**. This extension is the secrets provider that you configured and installed on your cluster with the `az iot ops init` command. You might delete and reinstall the Azure IoT Operations components during testing, but keep the secrets provider extension on your cluster.\n",
    "\n",
    "## How did we solve the problem?\n",
    "\n",
    "In this quickstart, you configured your Arc-enabled Kubernetes cluster so that it could communicate securely with your Azure IoT Operations components. Then, you deployed those components to your cluster. For this test scenario, you have a single Kubernetes cluster that's probably running locally on your machine. In a production scenario, however, you can use the same steps to deploy workloads to many clusters across many sites.\n",
    "\n",
    "## Clean up resources\n",
    "\n",
    "If you're continuing on to the next quickstart, keep all of your resources.\n",
    "\n",
    "If you want to delete the Azure IoT Operations deployment but plan on reinstalling it on your cluster, be sure to keep the secrets provider on your cluster. In your cluster on the Azure portal, select the extensions of the type **microsoft.iotoperations.x** and **microsoft.deviceregistry.assets**, then select **Uninstall**.\n",
    "\n",
    "If you want to delete all of the resources you created for this quickstart, delete the Kubernetes cluster that you deployed Azure IoT Operations to and remove the Azure resource group that contained the cluster.\n",
    "\n",
    "## Next steps\n",
    "\n",
    "> [!div class=\"nextstepaction\"]\n",
    "> [Quickstart: Add OPC UA assets to your Azure IoT Operations cluster](quickstart-add-assets.md)"
   ]
  }
 ],
 "metadata": {
  "kernelspec": {
   "display_name": ".NET (C#)",
   "language": "C#",
   "name": ".net-pwsh"
  },
  "language_info": {
   "name": "pwsh"
  },
  "polyglot_notebook": {
   "kernelInfo": {
    "defaultKernelName": "pwsh",
    "items": [
     {
      "aliases": [],
      "name": "pwsh"
     },
     {
      "aliases": [],
      "name": "pwsh"
     }
    ]
   }
  }
 },
 "nbformat": 4,
 "nbformat_minor": 2
}
