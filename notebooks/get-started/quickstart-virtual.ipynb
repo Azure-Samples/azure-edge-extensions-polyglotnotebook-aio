{
 "cells": [
  {
   "cell_type": "markdown",
   "metadata": {},
   "source": [
    "# Quickstart: Deploy Azure IoT Operations to an Arc-enabled Kubernetes cluster using Code\n",
    "\n",
    "<div class=\"alert alert-block alert-info\">\n",
    "<b>IMPORTANT:</b> Azure IoT Operations Preview – enabled by Azure Arc is currently in PREVIEW.\n",
    "You shouldn't use this preview software in production environments.\n",
    "\n",
    "See the [Supplemental Terms of Use for Microsoft Azure Previews](https://azure.microsoft.com/support/legal/preview-supplemental-terms/) for legal terms that apply to Azure features that are in beta, preview, or otherwise not yet released into general availability.</div>\n",
    "\n",
    "In this quickstart, you will deploy a suite of IoT services to an Azure Arc-enabled Kubernetes cluster so that you can remotely manage your devices and workloads. Azure IoT Operations Preview is a digital operations suite of services that includes Azure IoT Orchestrator. This quickstart guides you through using Orchestrator to deploy these services to a Kubernetes cluster. At the end of the quickstart, you have a cluster that you can manage from the cloud that's generating sample data to use in the following quickstarts.\n",
    "\n",
    "The services deployed in this quickstart include:\n",
    "\n",
    "* [Azure IoT Orchestrator](../deploy-custom/overview-orchestrator.md)\n",
    "* [Azure IoT MQ](../manage-mqtt-connectivity/overview-iot-mq.md)\n",
    "* [Azure IoT OPC UA broker](../manage-devices-assets/overview-opcua-broker.md) with simulated thermostat asset to start generating data\n",
    "* [Azure IoT Data Processor](../process-data/overview-data-processor.md) with a demo pipeline to start routing the simulated data\n",
    "* [Azure IoT Akri](../manage-devices-assets/overview-akri.md)\n",
    "* [Azure Device Registry](../manage-devices-assets/overview-manage-assets.md#manage-assets-as-azure-resources-in-a-centralized-registry)\n",
    "* [Azure IoT Layered Network Management](../manage-layered-network/overview-layered-network.md)\n",
    "* [Observability](../monitor/howto-configure-observability.md)\n",
    "\n",
    "## Prerequisites\n",
    "\n",
    "Review the prerequisites based on the environment you use to host the Kubernetes cluster.\n",
    "\n",
    "For this quickstart, we recommend GitHub Codespaces as a quick way to get started in a virtual environment without installing new tools. Or, use AKS Edge Essentials to create a cluster on Windows devices or K3s on Ubuntu Linux devices.\n",
    "\n",
    "* An Azure subscription. If you don't have an Azure subscription, [create one for free](https://azure.microsoft.com/free/?WT.mc_id=A261C142F) before you begin.\n",
    "\n",
    "* A [GitHub](https://github.com) account.\n",
    "\n",
    "---\n",
    "  \n",
    "## What problem will we solve?\n",
    "\n",
    "Azure IoT Operations is a suite of data services that run on Kubernetes clusters. You want these clusters to be managed remotely from the cloud, and able to securely communicate with cloud resources and endpoints. We address these concerns with the following tasks in this quickstart:\n",
    "\n",
    "1. Connect a Kubernetes cluster to Azure Arc for remote management.\n",
    "1. Create an Azure Key Vault to manage secrets for your cluster.\n",
    "1. Configure your cluster with a secrets store and service principal to communicate with cloud resources.\n",
    "1. Deploy Azure IoT Operations to your cluster.\n",
    "\n",
    "## Connect a Kubernetes cluster to Azure Arc\n",
    "\n",
    "Azure IoT Operations should work on any Kubernetes cluster that conforms to the Cloud Native Computing Foundation (CNCF) standards. For this quickstart, use GitHub Codespaces, AKS Edge Essentials on Windows, or K3s on Ubuntu Linux.\n",
    "\n",
    "Use GitHub Codespaces to try Azure IoT Operations on a Kubernetes cluster without installing anything on your local machine. Use the **explore-iot-operations** codespace that is preconfigured with:\n",
    "\n",
    "- [K3s](https://k3s.io/) running in [K3d](https://k3d.io/) for a lightweight Kubernetes cluster\n",
    "- [Azure CLI](/cli/azure/install-azure-cli)\n",
    "- [Kubectl](https://kubernetes.io/docs/tasks/tools/) for managing Kubernetes resources\n",
    "- Other useful tools like [Helm](https://helm.sh/) and [k9s](https://k9scli.io/)\n",
    "\n",
    "> [!IMPORTANT]\n",
    "> Codespaces are easy to set up quickly and tear down later, but they're not suitable for performance evaluation or scale testing. Use GitHub Codespaces for exploration only.\n",
    "\n",
    "To get started with your codespace:\n",
    "\n",
    "1. Create the codespace, entering your Azure details to store them as environment variables for the terminal.\n",
    "\n",
    "   [![Open in GitHub Codespaces](https://github.com/codespaces/badge.svg)](https://codespaces.new/Azure-Samples/explore-iot-operations?quickstart=1)\n",
    "\n",
    "1. Your codespace should open automatically. If not, open it from the **Codespaces** tab in GitHub.\n",
    "\n",
    "---\n",
    "To connect your cluster to Azure Arc:\n",
    "\n",
    "1. Sign in to Azure CLI on your development machine or in your codespace terminal. To prevent potential permission issues later, sign in interactively with a browser here even if you've already logged in before.\n",
    "\n",
    "```azurecli\n",
    "az login\n",
    "```\n",
    "\n",
    "<div class=\"warning\" style='background-color:#E9D8FD; color: #69337A; border-left: solid #805AD5 4px; border-radius: 4px; padding:0.7em;'>\n",
    "<span>\n",
    "<p style='margin-top:1em; text-align:left'>\n",
    "<b>NOTE</b>\n",
    "When using a Github codespace in a browser, `az login` returns a localhost error in the browser window after logging in. To fix, either:\n",
    "<br>\n",
    "* Open the codespace in VS Code desktop, and then run `az login` again in the browser terminal.\n",
    "* After you get the localhost error on the browser, copy the URL from the browser and run `curl \"<URL>\"` in a new terminal tab. You should see a JSON response with the message \"You have logged into Microsoft Azure!.\"\n",
    "</span>\n",
    "</div>\n",
    "\n",
    "1. Set environment variables for the rest of the setup. Replace values in `<>` with valid values or names of your choice. A new cluster and resource group are created in your Azure subscription based on the names you provide:"
   ]
  },
  {
   "cell_type": "code",
   "execution_count": 1,
   "metadata": {
    "dotnet_interactive": {
     "language": "pwsh"
    },
    "polyglot_notebook": {
     "kernelName": "pwsh"
    }
   },
   "outputs": [
    {
     "name": "stdout",
     "output_type": "stream",
     "text": [
      "\u001b[94mResource group: rg-aiobugbash1204\u001b[0m\n",
      "\u001b[94mArc cluster name: aiobugbash1204\u001b[0m\n"
     ]
    }
   ],
   "source": [
    "\n",
    "# Azure region where the created resource group will be located\n",
    "# Currently supported regions: \"eastus\", \"eastus2\", \"westus\", \"westus2\", \"westus3\", \"westeurope\", or \"northeurope\"\n",
    "$LOCATION=\"WestUS3\"\n",
    "\n",
    "$RESOURCE_GROUP = Read-Host -Prompt \"Name of a new resource group to create which will hold the Arc-enabled cluster and Alice Springs resources\"\n",
    "Write-Host \"Resource group: $RESOURCE_GROUP\" -ForegroundColor Blue\n",
    "\n",
    "$CLUSTER_NAME = Read-Host -Prompt \"Name of the Arc-enabled cluster to create in your resource group\"\n",
    "Write-Host \"Arc cluster name: $CLUSTER_NAME\" -ForegroundColor Blue"
   ]
  },
  {
   "cell_type": "markdown",
   "metadata": {},
   "source": [
    "1. Set the Azure subscription context for all commands:"
   ]
  },
  {
   "cell_type": "code",
   "execution_count": 2,
   "metadata": {
    "dotnet_interactive": {
     "language": "pwsh"
    },
    "polyglot_notebook": {
     "kernelName": "pwsh"
    }
   },
   "outputs": [],
   "source": [
    "# Id of the subscription where your resource group and Arc-enabled cluster will be created\n",
    "\n",
    "$SUBSCRIPTION_ID = (az account show --query id -o tsv)\n",
    "az account set -s $SUBSCRIPTION_ID"
   ]
  },
  {
   "cell_type": "markdown",
   "metadata": {},
   "source": [
    "1. Register the required resource providers in your subscription:"
   ]
  },
  {
   "cell_type": "code",
   "execution_count": 5,
   "metadata": {
    "dotnet_interactive": {
     "language": "pwsh"
    },
    "polyglot_notebook": {
     "kernelName": "pwsh"
    }
   },
   "outputs": [],
   "source": [
    "az provider register -n \"Microsoft.ExtendedLocation\"\n",
    "az provider register -n \"Microsoft.Kubernetes\"\n",
    "az provider register -n \"Microsoft.KubernetesConfiguration\"\n",
    "az provider register -n \"Microsoft.IoTOperationsOrchestrator\"\n",
    "az provider register -n \"Microsoft.IoTOperationsMQ\"\n",
    "az provider register -n \"Microsoft.IoTOperationsDataProcessor\"\n",
    "az provider register -n \"Microsoft.DeviceRegistry\""
   ]
  },
  {
   "cell_type": "markdown",
   "metadata": {},
   "source": [
    "To check if the registration is complete, run the following command. If the registration is complete, the command returns `Registered`."
   ]
  },
  {
   "cell_type": "code",
   "execution_count": 12,
   "metadata": {
    "dotnet_interactive": {
     "language": "pwsh"
    },
    "polyglot_notebook": {
     "kernelName": "pwsh"
    }
   },
   "outputs": [
    {
     "name": "stdout",
     "output_type": "stream",
     "text": [
      "Provider                              Status\n",
      "------------------------------------  ----------\n",
      "Microsoft.Kubernetes                  Registered\n",
      "Microsoft.KubernetesConfiguration     Registered\n",
      "Microsoft.ExtendedLocation            Registered\n",
      "Microsoft.DeviceRegistry              Registered\n",
      "Microsoft.IoTOperationsOrchestrator   Registered\n",
      "Microsoft.IoTOperationsMQ             Registered\n",
      "Microsoft.IoTOperationsDataProcessor  Registered\n"
     ]
    }
   ],
   "source": [
    "az provider list --query \"[?(namespace=='Microsoft.ExtendedLocation' || namespace=='Microsoft.Kubernetes' || namespace=='Microsoft.KubernetesConfiguration' || namespace=='Microsoft.IoTOperationsOrchestrator' || namespace=='Microsoft.IoTOperationsMQ' || namespace=='Microsoft.IoTOperationsDataProcessor' || namespace=='Microsoft.DeviceRegistry')].{Provider:namespace,Status:registrationState}\" -o table"
   ]
  },
  {
   "cell_type": "markdown",
   "metadata": {},
   "source": [
    "1. Use the [az group create](/cli/azure/group#az-group-create) command to create a resource group in your Azure subscription to store all the resources:"
   ]
  },
  {
   "cell_type": "code",
   "execution_count": 13,
   "metadata": {
    "dotnet_interactive": {
     "language": "pwsh"
    },
    "polyglot_notebook": {
     "kernelName": "pwsh"
    }
   },
   "outputs": [
    {
     "name": "stdout",
     "output_type": "stream",
     "text": [
      "{\n",
      "  \"id\": \"/subscriptions/20d5770a-8bb2-402f-9ade-11d91cb478a2/resourceGroups/rg-aiobugbash1204\",\n",
      "  \"location\": \"westus3\",\n",
      "  \"managedBy\": null,\n",
      "  \"name\": \"rg-aiobugbash1204\",\n",
      "  \"properties\": {\n",
      "    \"provisioningState\": \"Succeeded\"\n",
      "  },\n",
      "  \"tags\": null,\n",
      "  \"type\": \"Microsoft.Resources/resourceGroups\"\n",
      "}\n"
     ]
    }
   ],
   "source": [
    "az group create --location $LOCATION --resource-group $RESOURCE_GROUP --subscription $SUBSCRIPTION_ID"
   ]
  },
  {
   "cell_type": "markdown",
   "metadata": {},
   "source": [
    "1. Use the [az connectedk8s connect](/cli/azure/connectedk8s#az-connectedk8s-connect) command to Arc-enable your Kubernetes cluster and manage it in the resource group you created in the previous step:"
   ]
  },
  {
   "cell_type": "code",
   "execution_count": 14,
   "metadata": {
    "dotnet_interactive": {
     "language": "pwsh"
    },
    "polyglot_notebook": {
     "kernelName": "pwsh"
    }
   },
   "outputs": [
    {
     "name": "stdout",
     "output_type": "stream",
     "text": [
      "\u001b[31;1mWARNING: The command requires the extension connectedk8s. It will be installed first.\u001b[0m\n",
      "\u001b[31;1mWARNING: This operation might take a while...\u001b[0m\n",
      "\u001b[31;1m\u001b[0m\n",
      "\u001b[31;1mWARNING: Downloading kubectl client for first time. This can take few minutes...\u001b[0m\n",
      "\u001b[31;1mTo check existing issues, please visit: https://github.com/Azure/azure-cli/issues\u001b[0m\n",
      "\u001b[31;1mWARNING: \u001b[0m\n",
      "\u001b[31;1m\u001b[0m\n",
      "\u001b[31;1mWARNING: Downloading helm client for first time. This can take few minutes...\u001b[0m\n",
      "The required pre-checks for onboarding have succeeded.\n",
      "Azure resource provisioning has begun.\n",
      "Azure resource provisioning has finished.\n",
      "Starting to install Azure arc agents on the Kubernetes cluster.\n",
      "{\n",
      "  \"agentPublicKeyCertificate\": \"MIICCgKCAgEAxPY5Gkl4XvUR7RdvNzqMn5mjUH19qtjJly8ojo2g/Pp0oc7ntWNfASOLr1TRAW4k4Kfi5to0DYh3O4PmLwj/npZVuv0NI/GdyrWywRYa2rPQDeI0tIg0dIFZr2j20CEv2yGTIO/Vk9utBQ2EUF3SemT42uwwF2fu7G8rtaYk40yQ6XZi5GLuvkQWWZEz4S/cR8NBj2VzGcCkf5xzh2IRMYjm+4kU2Hv4J0rorRZqHbMqdX/iG4iCC1Y+oddmFongzZ9oY9z6GsNS3AQ4Iv+6tumH1VfPHM0xSo/rtaOm+y+JH7u/1JqUAz4q04UlfqvQnTgnxed7TH9BIXBSpHwJj++mmw5v9MoiRKL/8bqeWt7AgJHIycF79LQ6usPDQ6HWZwTIJ76KDiZjVVsKOhAPyiXl2GtjUuK2aCGrHjqSaX+vgbVRjzOlsQRb4J3HoansmFExFzOnMAsVYzD9D9Z3omvKZEcAjTh0FTWiX7GHTpZl67Yw32Hz4+sSVtAJCXdGwNYh7B/ewy3oMmdlw948SSg8biw7muaEG8ZShAB0PEHq9owdQq5Px7E12XXbNtZyOb5HHx31vyT07VjLsRyiLU03B69z/POk2xjumL8BjPzOQK2wkBr/t4aYnAvTM11PWaH0e7294Usjv8Jfykgzuj9ITXOz80pFP/uVUbMSvscCAwEAAQ==\",\n",
      "  \"agentVersion\": null,\n",
      "  \"connectivityStatus\": \"Connecting\",\n",
      "  \"distribution\": \"k3s\",\n",
      "  \"id\": \"/subscriptions/20d5770a-8bb2-402f-9ade-11d91cb478a2/resourceGroups/rg-aiobugbash1204/providers/Microsoft.Kubernetes/connectedClusters/aiobugbash1204\",\n",
      "  \"identity\": {\n",
      "    \"principalId\": \"456ac954-b1da-4cbb-bfa9-b17903675035\",\n",
      "    \"tenantId\": \"73e50a16-9087-4bfa-9788-ee12a4ef7f2b\",\n",
      "    \"type\": \"SystemAssigned\"\n",
      "  },\n",
      "  \"infrastructure\": \"generic\",\n",
      "  \"kubernetesVersion\": null,\n",
      "  \"lastConnectivityTime\": null,\n",
      "  \"location\": \"WestUS3\",\n",
      "  \"managedIdentityCertificateExpirationTime\": null,\n",
      "  \"name\": \"aiobugbash1204\",\n",
      "  \"offering\": null,\n",
      "  \"provisioningState\": \"Succeeded\",\n",
      "  \"resourceGroup\": \"rg-aiobugbash1204\",\n",
      "  \"systemData\": {\n",
      "    \"createdAt\": \"2023-12-04T18:31:36.300157+00:00\",\n",
      "    \"createdBy\": \"admin@MngEnvMCAP326983.onmicrosoft.com\",\n",
      "    \"createdByType\": \"User\",\n",
      "    \"lastModifiedAt\": \"2023-12-04T18:31:36.300157+00:00\",\n",
      "    \"lastModifiedBy\": \"admin@MngEnvMCAP326983.onmicrosoft.com\",\n",
      "    \"lastModifiedByType\": \"User\"\n",
      "  },\n",
      "  \"tags\": {},\n",
      "  \"totalCoreCount\": null,\n",
      "  \"totalNodeCount\": null,\n",
      "  \"type\": \"microsoft.kubernetes/connectedclusters\"\n",
      "}\n"
     ]
    }
   ],
   "source": [
    "az connectedk8s connect -n $CLUSTER_NAME -l $LOCATION -g $RESOURCE_GROUP --subscription $SUBSCRIPTION_ID"
   ]
  },
  {
   "cell_type": "markdown",
   "metadata": {},
   "source": [
    "1. Fetch the `objectId` or `id` of the Microsoft Entra ID application that the Azure Arc service uses."
   ]
  },
  {
   "cell_type": "code",
   "execution_count": 15,
   "metadata": {
    "dotnet_interactive": {
     "language": "pwsh"
    },
    "polyglot_notebook": {
     "kernelName": "pwsh"
    }
   },
   "outputs": [],
   "source": [
    "$OBJECT_ID = (az ad sp show --id bc313c14-388c-4e7d-a58e-70017303ee3b --query id -o tsv)"
   ]
  },
  {
   "cell_type": "markdown",
   "metadata": {},
   "source": [
    "1. Use the [az connectedk8s enable-features](/cli/azure/connectedk8s#az-connectedk8s-enable-features) command to enable custom location support on your cluster. Use the `objectId` or `id` value from the previous command to enable custom locations on the cluster:"
   ]
  },
  {
   "cell_type": "code",
   "execution_count": 16,
   "metadata": {
    "dotnet_interactive": {
     "language": "pwsh"
    },
    "polyglot_notebook": {
     "kernelName": "pwsh"
    }
   },
   "outputs": [
    {
     "name": "stdout",
     "output_type": "stream",
     "text": [
      "\u001b[31;1mWARNING: This command is in preview and under development. Reference and support levels: https://aka.ms/CLI_refstatus\u001b[0m\n",
      "\u001b[31;1mWARNING: This operation might take a while...\u001b[0m\n",
      "\u001b[31;1m\u001b[0m\n",
      "\"Successsfully enabled features: ['cluster-connect', 'custom-locations'] for the Connected Cluster aiobugbash1204\"\n"
     ]
    }
   ],
   "source": [
    "az connectedk8s enable-features -n $CLUSTER_NAME -g $RESOURCE_GROUP --custom-locations-oid $OBJECT_ID --features cluster-connect custom-locations"
   ]
  },
  {
   "cell_type": "markdown",
   "metadata": {},
   "source": [
    "\n",
    "---\n",
    "\n",
    "## Configure cluster and deploy Azure IoT Operations\n",
    "\n",
    "Part of the deployment process is to configure your cluster so that it can communicate securely with your Azure IoT Operations components and key vault. The Azure CLI command `az iot ops init` does this for you. Once your cluster is configured, then you can deploy Azure IoT Operations.\n",
    "\n",
    "Use the Azure CLI to create a key vault, build the `az iot ops init` command based on your resources, and then deploy Azure IoT Operations components to your Arc-enabled Kubernetes cluster.\n",
    "\n",
    "### Create a key vault\n",
    "\n",
    "You can use an existing key vault for your secrets, but verify that the **Permission model** is set to **Vault access policy**. You can check this setting in the Azure portal in the **Access configuration** section of an existing key vault. Or use the [az keyvault show](/cli/azure/keyvault#az-keyvault-show) command to check that `enableRbacAuthorization` is false.\n",
    "\n",
    "To create a new key vault, use the following command:"
   ]
  },
  {
   "cell_type": "code",
   "execution_count": 17,
   "metadata": {
    "dotnet_interactive": {
     "language": "pwsh"
    },
    "polyglot_notebook": {
     "kernelName": "pwsh"
    }
   },
   "outputs": [
    {
     "name": "stdout",
     "output_type": "stream",
     "text": [
      "{\n",
      "  \"id\": \"/subscriptions/20d5770a-8bb2-402f-9ade-11d91cb478a2/resourceGroups/rg-aiobugbash1204/providers/Microsoft.KeyVault/vaults/kv-aiobugbash1204\",\n",
      "  \"location\": \"westus3\",\n",
      "  \"name\": \"kv-aiobugbash1204\",\n",
      "  \"properties\": {\n",
      "    \"accessPolicies\": [\n",
      "      {\n",
      "        \"applicationId\": null,\n",
      "        \"objectId\": \"b2d14f5f-8d2e-44ef-bdf3-d4a07cf30b43\",\n",
      "        \"permissions\": {\n",
      "          \"certificates\": [\n",
      "            \"all\"\n",
      "          ],\n",
      "          \"keys\": [\n",
      "            \"all\"\n",
      "          ],\n",
      "          \"secrets\": [\n",
      "            \"all\"\n",
      "          ],\n",
      "          \"storage\": [\n",
      "            \"all\"\n",
      "          ]\n",
      "        },\n",
      "        \"tenantId\": \"73e50a16-9087-4bfa-9788-ee12a4ef7f2b\"\n",
      "      }\n",
      "    ],\n",
      "    \"createMode\": null,\n",
      "    \"enablePurgeProtection\": null,\n",
      "    \"enableRbacAuthorization\": false,\n",
      "    \"enableSoftDelete\": true,\n",
      "    \"enabledForDeployment\": false,\n",
      "    \"enabledForDiskEncryption\": null,\n",
      "    \"enabledForTemplateDeployment\": null,\n",
      "    \"hsmPoolResourceId\": null,\n",
      "    \"networkAcls\": null,\n",
      "    \"privateEndpointConnections\": null,\n",
      "    \"provisioningState\": \"Succeeded\",\n",
      "    \"publicNetworkAccess\": \"Enabled\",\n",
      "    \"sku\": {\n",
      "      \"family\": \"A\",\n",
      "      \"name\": \"standard\"\n",
      "    },\n",
      "    \"softDeleteRetentionInDays\": 90,\n",
      "    \"tenantId\": \"73e50a16-9087-4bfa-9788-ee12a4ef7f2b\",\n",
      "    \"vaultUri\": \"https://kv-aiobugbash1204.vault.azure.net/\"\n",
      "  },\n",
      "  \"resourceGroup\": \"rg-aiobugbash1204\",\n",
      "  \"systemData\": {\n",
      "    \"createdAt\": \"2023-12-04T18:35:55.504000+00:00\",\n",
      "    \"createdBy\": \"admin@MngEnvMCAP326983.onmicrosoft.com\",\n",
      "    \"createdByType\": \"User\",\n",
      "    \"lastModifiedAt\": \"2023-12-04T18:35:55.504000+00:00\",\n",
      "    \"lastModifiedBy\": \"admin@MngEnvMCAP326983.onmicrosoft.com\",\n",
      "    \"lastModifiedByType\": \"User\"\n",
      "  },\n",
      "  \"tags\": {},\n",
      "  \"type\": \"Microsoft.KeyVault/vaults\"\n",
      "}\n"
     ]
    }
   ],
   "source": [
    "$KEY_VAULT_NAME = Read-Host -Prompt \"Name of the key vault to create in your resource group\"\n",
    "\n",
    "az keyvault create --enable-rbac-authorization false --name $KEY_VAULT_NAME --resource-group $RESOURCE_GROUP"
   ]
  },
  {
   "cell_type": "markdown",
   "metadata": {},
   "source": [
    "\n",
    "### Deploy Azure IoT Operations\n",
    "\n",
    "1. In the Azure portal search bar, search for and select **Azure Arc**.\n",
    "\n",
    "1. Select **Azure IoT Operations (preview)** from the **Application services** section of the Azure Arc menu.\n",
    "\n",
    "   :::image type=\"content\" source=\"./media/quickstart-deploy/arc-iot-operations.png\" alt-text=\"Screenshot of selecting Azure IoT Operations from Azure Arc.\":::\n",
    "\n",
    "1. Select **Create**.\n",
    "\n",
    "1. On the **Basics** tab of the **Install Azure IoT Operations Arc Extension** page, provide the following information:\n",
    "\n",
    "   | Field | Value |\n",
    "   | ----- | ----- |\n",
    "   | **Subscription** | Select the subscription that contains your Arc-enabled Kubernetes cluster. |\n",
    "   | **Resource group** | Select the resource group that contains your Arc-enabled Kubernetes cluster. |\n",
    "   | **Cluster name** | Select your cluster. When you do, the **Custom location** and **Deployment details** sections autofill. |\n",
    "\n",
    "   :::image type=\"content\" source=\"./media/quickstart-deploy/install-extension-basics.png\" alt-text=\"Screenshot of the basics tab for installing the Azure IoT Operations Arc extension in the Azure portal.\":::\n",
    "\n",
    "1. Select **Next: Configuration**.\n",
    "\n",
    "1. On the **Configuration** tab, provide the following information:\n",
    "\n",
    "   | Field | Value |\n",
    "   | ----- | ----- |\n",
    "   | **Deploy a simulated PLC** | Switch this toggle to **Yes**. The simulated PLC creates demo telemetry data that you use in the following quickstarts. |\n",
    "   | **Mode** | Set the MQ configuration mode to **Auto**. |\n",
    "\n",
    "   :::image type=\"content\" source=\"./media/quickstart-deploy/install-extension-configuration.png\" alt-text=\"Screenshot of the configuration tab for installing the Azure IoT Operations Arc extension in the Azure portal.\":::\n",
    "\n",
    "1. Select **Next: Automation**.\n",
    "\n",
    "1. On the **Automation** tab, select **Pick or create an Azure Key Vault**.\n",
    "\n",
    "   :::image type=\"content\" source=\"./media/quickstart-deploy/install-extension-automation-1.png\" alt-text=\"Screenshot of selecting your key vault in the automation tab for installing the Azure IoT Operations Arc extension in the Azure portal.\":::\n",
    "\n",
    "1. Provide the following information to connect a key vault:\n",
    "\n",
    "   | Field | Value |\n",
    "   | ----- | ----- |\n",
    "   | **Subscription** | Select the subscription that contains your Arc-enabled Kubernetes cluster. |\n",
    "   | **Key vault** | Choose the key vault that you created in the previous section from the drop-down list. |\n",
    "\n",
    "1. Select **Select**.\n",
    "\n",
    "1. On the **Automation** tab, the automation commands are populated based on your chosen cluster and key vault. Copy the **Required** CLI command.\n",
    "\n",
    "   :::image type=\"content\" source=\"./media/quickstart-deploy/install-extension-automation-2.png\" alt-text=\"Screenshot of copying the CLI command from the automation tab for installing the Azure IoT Operations Arc extension in the Azure portal.\":::\n",
    "\n",
    "1. Run the `az iot ops init` command in the next cell.\n",
    "\n",
    "   >[!TIP]\n",
    "   >If you get an error that says *Your device is required to be managed to access your resource*, go back to the previous step and make sure that you signed in interactively.\n",
    "\n"
   ]
  },
  {
   "cell_type": "code",
   "execution_count": 20,
   "metadata": {
    "dotnet_interactive": {
     "language": "pwsh"
    },
    "polyglot_notebook": {
     "kernelName": "pwsh"
    }
   },
   "outputs": [
    {
     "name": "stdout",
     "output_type": "stream",
     "text": [
      "\u001b[31;1mWARNING: Command group 'iot ops' is in preview and under development. Reference and support levels: https://aka.ms/CLI_refstatus\u001b[0m\n",
      "                                                                                \n",
      "Azure IoT Operations init                                                       \n",
      "Workflow Id: 4c15d34f822e4035a319b876c9d9089a                                   \n",
      "                                                                                \n",
      "   KeyVault CSI Driver                                                          \n",
      "     ✔ Created app '15fb3d09-7fc5-4b7b-a16f-f0584ae28cff'                       \n",
      "     ✔ Ensure KeyVault 'kv-aiobugbash1204' access policy                        \n",
      "     ✔ Ensure secret name 'azure-iot-operations' for service account            \n",
      "     ✔ Deploy driver to cluster                                                 \n",
      "     ✔ Configure driver                                                         \n",
      "-> TLS                                                                          \n",
      "     ✔ Generate test CA using 'secp256r1'                                       \n",
      "     ✔ Configure cluster for tls                                                \n",
      "   Deploy IoT Operations [skipped]                                              \n",
      "                                                                                \n",
      "⠋ DONE! ━━━━━━━━━━━━━━━━━━━━━━━━━━━━━━━━━━━━━━━━   Elapsed: 0:01:51             \n",
      "                                                                                {\n",
      "  \"csiDriver\": {\n",
      "    \"enableSecretRotation\": \"true\",\n",
      "    \"keyVaultId\": \"/subscriptions/20d5770a-8bb2-402f-9ade-11d91cb478a2/resourceGroups/rg-aiobugbash1204/providers/Microsoft.KeyVault/vaults/kv-aiobugbash1204\",\n",
      "    \"kvSatSecretName\": \"azure-iot-operations\",\n",
      "    \"rotationPollInterval\": \"1h\",\n",
      "    \"spAppId\": \"15fb3d09-7fc5-4b7b-a16f-f0584ae28cff\",\n",
      "    \"spObjectId\": \"7879705c-fa0d-4f06-a054-fa62dcf6c205\"\n",
      "  },\n",
      "  \"tls\": {\n",
      "    \"aioTrustConfigMap\": \"aio-ca-trust-bundle-test-only\",\n",
      "    \"aioTrustSecretName\": \"aio-ca-key-pair-test-only\"\n",
      "  }\n",
      "}\n"
     ]
    }
   ],
   "source": [
    "az iot ops init --subscription $SUBSCRIPTION_ID -g $RESOURCE_GROUP --cluster $CLUSTER_NAME --kv-id /subscriptions/$SUBSCRIPTION_ID/resourceGroups/$RESOURCE_GROUP/providers/Microsoft.KeyVault/vaults/$KEY_VAULT_NAME --no-deploy"
   ]
  },
  {
   "cell_type": "markdown",
   "metadata": {},
   "source": [
    "If `az iot ops` does not work, then run the following:"
   ]
  },
  {
   "cell_type": "code",
   "execution_count": 19,
   "metadata": {
    "dotnet_interactive": {
     "language": "pwsh"
    },
    "polyglot_notebook": {
     "kernelName": "pwsh"
    }
   },
   "outputs": [
    {
     "name": "stdout",
     "output_type": "stream",
     "text": [
      "\u001b[31;1mERROR: The extension azure-iot-ops is not installed. Please install the extension via `az extension add -n azure-iot-ops`.\u001b[0m\n",
      "\u001b[31;1mERROR: The extension azure-edge is not installed. Please install the extension via `az extension add -n azure-edge`.\u001b[0m\n",
      "\u001b[31;1mWARNING: The installed extension 'azure-iot-ops' is in preview.\u001b[0m\n"
     ]
    }
   ],
   "source": [
    "# Remove old extensions:\n",
    "az extension remove --name azure-iot-ops\n",
    "az extension remove --name azure-edge\n",
    "\n",
    "# Install extension \"0.1.0b1\"\n",
    "az extension add --source $(curl -w \"%{url_effective}\\n\" -I -L -s -S https://aka.ms/aziotopscli-latest -o /dev/null) -y"
   ]
  },
  {
   "cell_type": "markdown",
   "metadata": {},
   "source": [
    "1. Return to the Azure portal and select **Review + Create**.\n",
    "\n",
    "1. Wait for the validation to pass and then select **Create**.\n",
    "\n",
    "## View resources in your cluster\n",
    "\n",
    "While the deployment is in progress, you can watch the resources being applied to your cluster. You can use kubectl commands to observe changes on the cluster or, since the cluster is Arc-enabled, you can use the Azure portal.\n",
    "\n",
    "To view the pods on your cluster, run the following command:"
   ]
  },
  {
   "cell_type": "code",
   "execution_count": 23,
   "metadata": {
    "dotnet_interactive": {
     "language": "pwsh"
    },
    "polyglot_notebook": {
     "kernelName": "pwsh"
    }
   },
   "outputs": [
    {
     "name": "stdout",
     "output_type": "stream",
     "text": [
      "NAME                                           READY   STATUS    RESTARTS   AGE\n",
      "aio-cert-manager-64f9548744-w4qfk              1/1     Running   0          4m10s\n",
      "aio-cert-manager-cainjector-6c7c546578-nq9cm   1/1     Running   0          4m10s\n",
      "aio-cert-manager-webhook-7f676965dd-psbfb      1/1     Running   0          4m10s\n",
      "aio-orc-controller-manager-6c4d9f6f98-f6rd5    2/2     Running   0          4m10s\n",
      "aio-orc-api-5c46c58db-7j4dv                    2/2     Running   0          4m10s\n",
      "aio-mq-operator-696f7d57bd-2nhh5               3/3     Running   0          2m19s\n",
      "aio-dp-refdata-store-0                         1/1     Running   0          115s\n",
      "aio-dp-nfs-server-provisioner-0                1/1     Running   0          115s\n",
      "aio-dp-reader-worker-0                         1/1     Running   0          115s\n",
      "aio-dp-operator-55f8458c6d-svsjz               1/1     Running   0          115s\n",
      "aio-dp-msg-store-0                             3/3     Running   0          115s\n",
      "aio-dp-runner-worker-0                         1/1     Running   0          115s\n",
      "aio-akri-otel-collector-6744659f9b-6ds5l       1/1     Running   0          57s\n",
      "aio-akri-agent-daemonset-mnwsq                 1/1     Running   0          57s\n",
      "aio-lnm-operator-775b5f5f79-fckqc              1/1     Running   0          42s\n"
     ]
    }
   ],
   "source": [
    "#!pwsh\n",
    "kubectl get pods -n azure-iot-operations"
   ]
  },
  {
   "cell_type": "markdown",
   "metadata": {},
   "source": [
    "\n",
    "It can take several minutes for the deployment to complete. Continue running the `get pods` command to refresh your view.\n",
    "\n",
    "To view your cluster on the Azure portal, use the following steps:\n",
    "\n",
    "1. In the Azure portal, navigate to the resource group that contains your cluster.\n",
    "\n",
    "1. From the **Overview** of the resource group, select the name of your cluster.\n",
    "\n",
    "1. On your cluster, select **Extensions** from the menu.\n",
    "\n",
    "   You can see that your cluster is running extensions of the type **microsoft.iotoperations.x**, which is the group name for all of the Azure IoT Operations components and the orchestration service.\n",
    "\n",
    "   There's also an extension called **akvsecretsprovider**. This extension is the secrets provider that you configured and installed on your cluster with the `az iot ops init` command. You might delete and reinstall the Azure IoT Operations components during testing, but keep the secrets provider extension on your cluster.\n",
    "\n",
    "## How did we solve the problem?\n",
    "\n",
    "In this quickstart, you configured your Arc-enabled Kubernetes cluster so that it could communicate securely with your Azure IoT Operations components. Then, you deployed those components to your cluster. For this test scenario, you have a single Kubernetes cluster that's probably running locally on your machine. In a production scenario, however, you can use the same steps to deploy workloads to many clusters across many sites.\n",
    "\n",
    "## Clean up resources\n",
    "\n",
    "If you're continuing on to the next quickstart, keep all of your resources.\n",
    "\n",
    "If you want to delete the Azure IoT Operations deployment but plan on reinstalling it on your cluster, be sure to keep the secrets provider on your cluster. In your cluster on the Azure portal, select the extensions of the type **microsoft.iotoperations.x** and **microsoft.deviceregistry.assets**, then select **Uninstall**.\n",
    "\n",
    "If you want to delete all of the resources you created for this quickstart, delete the Kubernetes cluster that you deployed Azure IoT Operations to and remove the Azure resource group that contained the cluster.\n",
    "\n",
    "## Next steps\n",
    "\n",
    "> [Quickstart: Add OPC UA assets to your Azure IoT Operations cluster](quickstart-add-assets.md)"
   ]
  },
  {
   "cell_type": "code",
   "execution_count": 1,
   "metadata": {
    "dotnet_interactive": {
     "language": "pwsh"
    },
    "polyglot_notebook": {
     "kernelName": "pwsh"
    }
   },
   "outputs": [
    {
     "name": "stdout",
     "output_type": "stream",
     "text": [
      "\u001b[31;1mWarning: resource assetendpointprofiles/opc-ua-connector-0 is missing the kubectl.kubernetes.io/last-applied-configuration annotation which is required by kubectl apply. kubectl apply should only be used on resources created declaratively by either kubectl create --save-config or kubectl apply. The missing annotation will be patched automatically.\u001b[0m\n",
      "assetendpointprofile.deviceregistry.microsoft.com/opc-ua-connector-0 configured\n"
     ]
    }
   ],
   "source": [
    "kubectl apply -f https://raw.githubusercontent.com/Azure-Samples/explore-iot-operations/main/samples/quickstarts/opc-ua-connector-0.yaml"
   ]
  }
 ],
 "metadata": {
  "kernelspec": {
   "display_name": ".NET (C#)",
   "language": "C#",
   "name": ".net-csharp"
  },
  "language_info": {
   "name": "polyglot-notebook"
  },
  "polyglot_notebook": {
   "kernelInfo": {
    "defaultKernelName": "csharp",
    "items": [
     {
      "aliases": [],
      "name": "csharp"
     },
     {
      "aliases": [],
      "name": "pwsh"
     }
    ]
   }
  }
 },
 "nbformat": 4,
 "nbformat_minor": 2
}
