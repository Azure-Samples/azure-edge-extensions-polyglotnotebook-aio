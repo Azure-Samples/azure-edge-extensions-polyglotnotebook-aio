{
 "cells": [
  {
   "cell_type": "markdown",
   "metadata": {},
   "source": [
    "\n",
    "# Quickstart: Add OPC UA assets to your Azure IoT Operations cluster\n",
    "\n",
    "<div class=\"alert alert-block alert-info\">\n",
    "<b>IMPORTANT:</b> Azure IoT Operations Preview – enabled by Azure Arc is currently in PREVIEW.\n",
    "You shouldn't use this preview software in production environments.\n",
    "\n",
    "See the [Supplemental Terms of Use for Microsoft Azure Previews](https://azure.microsoft.com/support/legal/preview-supplemental-terms/) for legal terms that apply to Azure features that are in beta, preview, or otherwise not yet released into general availability.</div>\n",
    "\n",
    "In this quickstart, you manually add OPC UA assets to your Azure IoT Operations Preview cluster. These assets publish messages to the Azure IoT MQ (preview) broker in your Azure IoT Operations cluster. Typically, an OT user completes these steps.\n",
    "\n",
    "An _asset_ is a physical device or logical entity that represents a device, a machine, a system, or a process. For example, a physical asset could be a pump, a motor, a tank, or a production line. A logical asset that you define can have properties, stream telemetry, or generate events.\n",
    "\n",
    "_OPC UA servers_ are software applications that communicate with assets. _OPC UA tags_ are data points that OPC UA servers expose. OPC UA tags can provide real-time or historical data about the status, performance, quality, or condition of assets.\n",
    "\n",
    "In this quickstart, you use will the [Azure CLI to complete some of these tasks](https://learn.microsoft.com/en-us/cli/azure/iot/ops/asset?view=azure-cli-latest).\n",
    "\n",
    "## Prerequisites\n",
    "\n",
    "Complete [Quickstart: Deploy Azure IoT Operations to an Arc-enabled Kubernetes cluster](quickstart-virtual-deploy.ipynb) before you begin this quickstart.\n",
    "\n",
    "To sign in to the Azure IoT Operations portal you need a work or school account in the tenant where you deployed Azure IoT Operations. If you're currently using a Microsoft account (MSA), you need to create a Microsoft Entra ID with at least contributor permissions for the resource group that contains your **Kubernetes - Azure Arc** instance. To learn more, see [Known Issues > Create Entra account](./troubleshoot/known-issues.md#azure-iot-operations-preview-portal).\n",
    "\n",
    "## What problem will we solve?\n",
    "\n",
    "The data that OPC UA servers expose can have a complex structure and can be difficult to understand. Azure IoT Operations provides a way to model OPC UA assets as tags, events, and properties. This modeling makes it easier to understand the data and to use it in downstream processes such as the MQ broker and Azure IoT Data Processor (preview) pipelines.\n",
    "\n",
    "## Sign into the Azure IoT Operations portal\n",
    "\n",
    "To create asset endpoints, assets and subscribe to OPC UA tags and events, use the Azure IoT Operations (preview) portal. Navigate to the [Azure IoT Operations](https://iotoperations.azure.com) portal in your browser and sign with your Microsoft Entra ID credentials.\n",
    "\n",
    "<div class=\"alert alert-block alert-info\">\n",
    "<b>IMPORTANT:</b> You must use a work or school account to sign in to the Azure IoT Operations portal. To learn more, see <a href=\"./troubleshoot/known-issues.md#azure-iot-operations-preview-portal\">Known Issues > Create Entra account</a></div>\n",
    "\n",
    "## Select your cluster\n",
    "\n",
    "When you sign in, select **Get started**. The portal displays the list of Kubernetes clusters that you have access to. Select the cluster that you deployed Azure IoT Operations to in the previous quickstart:\n",
    "\n",
    "![cluster-list.png](media/quickstart-add-assets/cluster-list.png)\n",
    "\n",
    "<div class=\"warning\" style='background-color:#E9D8FD; color: #69337A; border-left: solid #805AD5 4px; border-radius: 4px; padding:0.7em;'>\n",
    "<span>\n",
    "<p style='margin-top:1em; text-align:left'>\n",
    "<b>TIP </b>\n",
    "If you don't see any clusters, you might not be in the right Azure Active Directory tenant. You can change the tenant from the top right menu in the portal. If you still don't see any clusters, that means you are not added to any yet. Reach out to your IT administrator to give you access to the Azure resource group the Kubernetes cluster belongs to from Azure portal. You must be in the <b><i>contributor</i></b> role.</p>\n",
    "</span>\n",
    "</div>\n",
    "\n",
    "## Add an asset endpoint\n",
    "\n",
    "When you deployed Azure IoT Operations, you chose to include a built-in OPC PLC simulator. In this step, you add an asset endpoint that enables you to connect to the OPC PLC simulator.\n",
    "\n",
    "To add an asset endpoint:\n",
    "\n",
    "1. Select **Asset endpoints** and then **Create asset endpoint**:\n",
    "\n",
    "    ![asset-endpoints.png](media/quickstart-add-assets/asset-endpoints.png)\n",
    "\n",
    "\n",
    "1. Enter the following endpoint information:\n",
    "\n",
    "    | Field | Value |\n",
    "    | --- | --- |\n",
    "    | Name | `opc-ua-connector-0` |\n",
    "    | OPC UA Broker URL | `opc.tcp://opcplc-000000:50000` |\n",
    "    | User authentication | `Anonymous` |\n",
    "    | Transport authentication | `Do not use transport authentication certificate` |\n",
    "\n",
    "1. To save the definition, select **Create**.\n",
    "\n",
    "    This configuration deploys a new asset endpoint called `opc-ua-connector-0` to the cluster. You can use `kubectl` to view the asset endpoints:\n",
    "\n"
   ]
  },
  {
   "cell_type": "code",
   "execution_count": 2,
   "metadata": {
    "dotnet_interactive": {
     "language": "pwsh"
    },
    "polyglot_notebook": {
     "kernelName": "pwsh"
    }
   },
   "outputs": [
    {
     "name": "stdout",
     "output_type": "stream",
     "text": [
      "NAME                 AGE\n",
      "opc-ua-connector-0   11m\n"
     ]
    }
   ],
   "source": [
    "kubectl get assetendpointprofile -n azure-iot-operations"
   ]
  },
  {
   "cell_type": "markdown",
   "metadata": {},
   "source": [
    "After you define an asset, an OPC UA connector pod discovers it. The pod uses the asset endpoint that you specify in the asset definition to connect to an OPC UA server. You can use `kubectl` to view the discovery pod that was created when you added the asset endpoint. The pod name looks like `aio-opc-opc.tcp-1-8f96f76-kvdbt`:"
   ]
  },
  {
   "cell_type": "code",
   "execution_count": 3,
   "metadata": {
    "dotnet_interactive": {
     "language": "pwsh"
    },
    "polyglot_notebook": {
     "kernelName": "pwsh"
    }
   },
   "outputs": [
    {
     "name": "stdout",
     "output_type": "stream",
     "text": [
      "aio-opc-opc.tcp-1-54d78cf79d-vx8pz              2/2     Running   0             12m\n"
     ]
    }
   ],
   "source": [
    "kubectl get pods -n azure-iot-operations | grep aio-opc-opc.tcp*"
   ]
  },
  {
   "cell_type": "markdown",
   "metadata": {},
   "source": [
    "When the OPC PLC simulator is running, data flows from the simulator, to the connector, to the OPC UA broker, and finally to the MQ broker.\n",
    "\n",
    "To enable the asset endpoint to use an untrusted certificate:\n",
    "\n",
    "<div class=\"alert alert-block alert-warning\">\n",
    "<b>CAUTION:</b> Don't use untrusted certificates in production environments.\n",
    "</div>\n",
    "\n",
    "1. Run the following command on the machine where your cluster is running to apply the configuration to use an untrusted certificate:"
   ]
  },
  {
   "cell_type": "code",
   "execution_count": 4,
   "metadata": {
    "dotnet_interactive": {
     "language": "pwsh"
    },
    "polyglot_notebook": {
     "kernelName": "pwsh"
    }
   },
   "outputs": [
    {
     "name": "stdout",
     "output_type": "stream",
     "text": [
      "\u001b[31;1mWarning: resource assetendpointprofiles/opc-ua-connector-0 is missing the kubectl.kubernetes.io/last-applied-configuration annotation which is required by kubectl apply. kubectl apply should only be used on resources created declaratively by either kubectl create --save-config or kubectl apply. The missing annotation will be patched automatically.\u001b[0m\n",
      "assetendpointprofile.deviceregistry.microsoft.com/opc-ua-connector-0 configured\n"
     ]
    }
   ],
   "source": [
    "kubectl apply -f https://raw.githubusercontent.com/Azure-Samples/explore-iot-operations/main/samples/quickstarts/opc-ua-connector-0.yaml"
   ]
  },
  {
   "cell_type": "markdown",
   "metadata": {},
   "source": [
    "The following snippet shows the YAML file that you applied:\n",
    "\n",
    "```yaml\n",
    "# Important: do not use in production environments\n",
    "apiVersion: deviceregistry.microsoft.com/v1beta1\n",
    "kind: AssetEndpointProfile\n",
    "metadata:\n",
    "  name: opc-ua-connector-0\n",
    "  namespace: azure-iot-operations\n",
    "spec:\n",
    "  additionalConfiguration: |-\n",
    "    {\n",
    "      \"applicationName\": \"opc-ua-connector-0\",\n",
    "      \"defaults\": {\n",
    "        \"publishingIntervalMilliseconds\": 1000,\n",
    "        \"samplingIntervalMilliseconds\": 500,\n",
    "        \"queueSize\": 1,\n",
    "      },\n",
    "      \"session\": {\n",
    "        \"timeout\": 60000\n",
    "      },\n",
    "      \"subscription\": {\n",
    "        \"maxItems\": 1000,\n",
    "      },\n",
    "      \"security\": {\n",
    "        \"autoAcceptUntrustedServerCertificates\": true\n",
    "      }\n",
    "    }\n",
    "  targetAddress: opc.tcp://opcplc-000000.azure-iot-operations:50000\n",
    "  transportAuthentication:\n",
    "    ownCertificates: []\n",
    "  userAuthentication:\n",
    "    mode: Anonymous\n",
    "  uuid: doe-opc-ua-connector-0\n",
    "```\n",
    "\n",
    "1. Find the name of your `aio-opc-supervisor` pod by using the following command:"
   ]
  },
  {
   "cell_type": "code",
   "execution_count": 8,
   "metadata": {
    "dotnet_interactive": {
     "language": "pwsh"
    },
    "polyglot_notebook": {
     "kernelName": "pwsh"
    }
   },
   "outputs": [],
   "source": [
    "$AIO_OPC_SUPERVISOR=$(kubectl get pods -n azure-iot-operations | grep aio-opc-supervisor* | awk '{print $1}')"
   ]
  },
  {
   "cell_type": "markdown",
   "metadata": {},
   "source": [
    "The name of your pod looks like `aio-opc-supervisor-956fbb649-k9ppr`.\n",
    "\n",
    "1. Restart the `aio-opc-supervisor` pod by using a command that looks like the following example. Use the `aio-opc-supervisor` pod name from the previous step:"
   ]
  },
  {
   "cell_type": "code",
   "execution_count": 9,
   "metadata": {
    "dotnet_interactive": {
     "language": "pwsh"
    },
    "polyglot_notebook": {
     "kernelName": "pwsh"
    }
   },
   "outputs": [
    {
     "name": "stdout",
     "output_type": "stream",
     "text": [
      "pod \"aio-opc-supervisor-7b4dd46b45-5qp4n\" deleted\n"
     ]
    }
   ],
   "source": [
    "kubectl delete pod $AIO_OPC_SUPERVISOR -n azure-iot-operations"
   ]
  },
  {
   "cell_type": "code",
   "execution_count": 12,
   "metadata": {
    "dotnet_interactive": {
     "language": "pwsh"
    },
    "polyglot_notebook": {
     "kernelName": "pwsh"
    }
   },
   "outputs": [
    {
     "name": "stdout",
     "output_type": "stream",
     "text": [
      "aio-opc-supervisor-7b4dd46b45-wnxmr             1/1     Running   0          14m\n"
     ]
    }
   ],
   "source": [
    "kubectl get pods -n azure-iot-operations | grep aio-opc-supervisor*"
   ]
  },
  {
   "cell_type": "markdown",
   "metadata": {},
   "source": [
    "## Manage your assets\n",
    "\n",
    "After you select your cluster in Azure IoT Operations portal, you see the available list of assets on the **Assets** page. If there are no assets yet, this list is empty:\n",
    "\n",
    "![create-asset-empty.png](./media/quickstart-add-assets/create-asset-empty.png)\n",
    "\n",
    "### Create an asset\n",
    "\n",
    "We will be creating a simulated thermostat asset with the following asset information and OPC UA tags:\n",
    "\n",
    "| Field | Value |\n",
    "| --- | --- |\n",
    "| Asset name | `thermostat` |\n",
    "| Asset Endpoint | `opc-ua-connector-0` |\n",
    "| Description | `A simulated thermostat asset` |\n",
    "\n",
    "<br>\n",
    "\n",
    "| Node ID            | Tag name    | Observability mode |\n",
    "| ------------------ | ----------- | ------------------ |\n",
    "| ns=3;s=FastUInt10  | temperature | none               |\n",
    "| ns=3;s=FastUInt100 | Tag 10      | none               |\n",
    "\n"
   ]
  },
  {
   "cell_type": "code",
   "execution_count": 16,
   "metadata": {
    "dotnet_interactive": {
     "language": "pwsh"
    },
    "polyglot_notebook": {
     "kernelName": "pwsh"
    }
   },
   "outputs": [
    {
     "name": "stdout",
     "output_type": "stream",
     "text": [
      "\u001b[94mResource group: rg-emm12122\u001b[0m\n"
     ]
    }
   ],
   "source": [
    "$RESOURCE_GROUP = Read-Host -Prompt \"Name of resource group where the Arc-enabled Kubernetes cluster is deployed\"\n",
    "Write-Host \"Resource group: $RESOURCE_GROUP\" -ForegroundColor Blue\n",
    "\n",
    "$CLUSTER_NAME = az connectedk8s list -g $RESOURCE_GROUP --query \"[0].name\" -o tsv"
   ]
  },
  {
   "cell_type": "code",
   "execution_count": 20,
   "metadata": {
    "dotnet_interactive": {
     "language": "pwsh"
    },
    "polyglot_notebook": {
     "kernelName": "pwsh"
    }
   },
   "outputs": [
    {
     "name": "stdout",
     "output_type": "stream",
     "text": [
      "\u001b[31;1mWARNING: Command group 'iot ops' is in preview and under development. Reference and support levels: https://aka.ms/CLI_refstatus\u001b[0m\n",
      "{\n",
      "  \"extendedLocation\": {\n",
      "    \"name\": \"/subscriptions/20d5770a-8bb2-402f-9ade-11d91cb478a2/resourceGroups/rg-emm12122/providers/Microsoft.ExtendedLocation/customLocations/emm12122-cl\",\n",
      "    \"type\": \"CustomLocation\"\n",
      "  },\n",
      "  \"id\": \"/subscriptions/20d5770a-8bb2-402f-9ade-11d91cb478a2/resourceGroups/rg-emm12122/providers/Microsoft.DeviceRegistry/assets/thermostat2\",\n",
      "  \"identity\": null,\n",
      "  \"kind\": null,\n",
      "  \"location\": \"westus3\",\n",
      "  \"managedBy\": null,\n",
      "  \"name\": \"thermostat2\",\n",
      "  \"plan\": null,\n",
      "  \"properties\": {\n",
      "    \"assetEndpointProfileUri\": \"opc-ua-connector-0\",\n",
      "    \"dataPoints\": [\n",
      "      {\n",
      "        \"capabilityId\": \"temperature\",\n",
      "        \"dataPointConfiguration\": \"{\\\"samplingInterval\\\": 500, \\\"queueSize\\\": 1}\",\n",
      "        \"dataSource\": \"ns=3;s=FastUInt10\",\n",
      "        \"name\": \"temperature\",\n",
      "        \"observabilityMode\": \"none\"\n",
      "      },\n",
      "      {\n",
      "        \"capabilityId\": \"Tag 10\",\n",
      "        \"dataPointConfiguration\": \"{\\\"samplingInterval\\\": 500, \\\"queueSize\\\": 1}\",\n",
      "        \"dataSource\": \"ns=3;s=FastUInt100\",\n",
      "        \"name\": \"Tag 10\",\n",
      "        \"observabilityMode\": \"none\"\n",
      "      }\n",
      "    ],\n",
      "    \"defaultDataPointsConfiguration\": \"{\\\"publishingInterval\\\": 1000, \\\"samplingInterval\\\": 500, \\\"queueSize\\\": 1}\",\n",
      "    \"defaultEventsConfiguration\": \"{\\\"publishingInterval\\\": 1000, \\\"samplingInterval\\\": 500, \\\"queueSize\\\": 1}\",\n",
      "    \"displayName\": \"thermostat2\",\n",
      "    \"enabled\": true,\n",
      "    \"events\": [],\n",
      "    \"externalAssetId\": \"98d688b1-50ff-44bc-b234-649a63b2feb4\",\n",
      "    \"provisioningState\": \"Succeeded\",\n",
      "    \"uuid\": \"98d688b1-50ff-44bc-b234-649a63b2feb4\",\n",
      "    \"version\": 1\n",
      "  },\n",
      "  \"resourceGroup\": \"rg-emm12122\",\n",
      "  \"sku\": null,\n",
      "  \"systemData\": {\n",
      "    \"createdAt\": \"2023-12-12T23:59:38.8197625Z\",\n",
      "    \"createdBy\": \"admin@MngEnvMCAP326983.onmicrosoft.com\",\n",
      "    \"createdByType\": \"User\",\n",
      "    \"lastModifiedAt\": \"2023-12-12T23:59:50.4893832Z\",\n",
      "    \"lastModifiedBy\": \"319f651f-7ddb-4fc6-9857-7aef9250bd05\",\n",
      "    \"lastModifiedByType\": \"Application\"\n",
      "  },\n",
      "  \"tags\": null,\n",
      "  \"type\": \"microsoft.deviceregistry/assets\"\n",
      "}\n"
     ]
    }
   ],
   "source": [
    "$NODE_ID_1 = \"ns=3;s=FastUInt10\"\n",
    "$TAG_NAME_1 = \"temperature\"\n",
    "\n",
    "$NODE_ID_2 = \"ns=3;s=FastUInt100\"\n",
    "$TAG_NAME_2 = \"Tag 10\"\n",
    "\n",
    "az iot ops asset create `\n",
    "--name thermostat2 `\n",
    "-g $RESOURCE_GROUP `\n",
    "--cluster $CLUSTER_NAME `\n",
    "--endpoint opc-ua-connector-0 `\n",
    "--data data_source=$NODE_ID_1 name=$TAG_NAME_1 observability_mode=none sampling_interval=500 queue_size=1 `\n",
    "--data data_source=$NODE_ID_2 name=$TAG_NAME_2 observability_mode=none sampling_interval=500 queue_size=1"
   ]
  },
  {
   "cell_type": "markdown",
   "metadata": {},
   "source": [
    "> **Optional**: If you have any additional information for the asset that you want to include such as:\n",
    ">\n",
    "> - Manufacturer\n",
    "> - Manufacturer URI\n",
    "> - Model\n",
    "> - Product code\n",
    "> - Hardware version\n",
    "> - Software version\n",
    "> - Serial number\n",
    "> - Documentation URI\n",
    "> \n",
    "> Use the below cell and replace the values with your own:"
   ]
  },
  {
   "cell_type": "code",
   "execution_count": 8,
   "metadata": {
    "dotnet_interactive": {
     "language": "pwsh"
    },
    "polyglot_notebook": {
     "kernelName": "pwsh"
    }
   },
   "outputs": [
    {
     "name": "stdout",
     "output_type": "stream",
     "text": [
      "[]\n"
     ]
    }
   ],
   "source": [
    "$NODE_ID_1 = \"ns=3;s=FastUInt10\"\n",
    "$TAG_NAME_1 = \"temperature\"\n",
    "$NODE_ID_2 = \"ns=3;s=FastUInt100\"\n",
    "$TAG_NAME_2 = \"Tag 10\"\n",
    "\n",
    "az iot ops asset create `\n",
    "--name thermostat2 `\n",
    "-g rg-aiobugbash1204 `\n",
    "--cluster aiobugbash1204 `\n",
    "--endpoint opc-ua-connector-0 `\n",
    "--data data_source=$NODE_ID_1 name=$TAG_NAME_1 observability_mode=none sampling_interval=500 queue_size=1 `\n",
    "--data data_source=$NODE_ID_2 name=$TAG_NAME_2 observability_mode=none sampling_interval=500 queue_size=1 `\n",
    "--manufacturer <MANUFACTURER> `\n",
    "--manufacturer-uri <MANUFACTURER_URI> `\n",
    "--model <MODEL> `\n",
    "--serial-number <SERIAL_NUMBER>"
   ]
  },
  {
   "cell_type": "markdown",
   "metadata": {},
   "source": [
    "\n",
    "## Verify data is flowing\n",
    "\n",
    "To verify data is flowing from your assets by using the **mqttui** tool. In this quickstart you run the **mqttui** tool inside your Kubernetes cluster:\n",
    "\n",
    "1. Run the following command to deploy a pod that includes the **mqttui** and **mosquitto** tools that are useful for interacting with the MQ broker in the cluster:"
   ]
  },
  {
   "cell_type": "code",
   "execution_count": 21,
   "metadata": {
    "dotnet_interactive": {
     "language": "pwsh"
    },
    "polyglot_notebook": {
     "kernelName": "pwsh"
    }
   },
   "outputs": [
    {
     "name": "stdout",
     "output_type": "stream",
     "text": [
      "pod/mqtt-client created\n"
     ]
    }
   ],
   "source": [
    "kubectl apply -f https://raw.githubusercontent.com/Azure-Samples/explore-iot-operations/main/samples/quickstarts/mqtt-client.yaml"
   ]
  },
  {
   "cell_type": "markdown",
   "metadata": {},
   "source": [
    "The following snippet shows the YAML file that you applied:\n",
    "\n",
    "```yaml\n",
    "# Important: do not use in production environments\n",
    "# Creates a pod with mosquitto-clients and mqttui utilities in your cluster\n",
    "apiVersion: v1\n",
    "kind: Pod\n",
    "metadata:\n",
    "  name: mqtt-client\n",
    "  # The namespace must match the IoT MQ BrokerListener's namespace\n",
    "  # Otherwise use the long hostname: aio-mq-dmqtt-frontend.azure-iot-operations.svc.cluster.local\n",
    "  namespace: azure-iot-operations\n",
    "spec:\n",
    "  # Use the \"mqtt-client\" service account which comes with default deployment\n",
    "  # Otherwise create it with `kubectl create serviceaccount mqtt-client -n azure-iot-operations`\n",
    "  serviceAccountName: mqtt-client\n",
    "  containers:\n",
    "    # Install mosquitto and mqttui utilities on Alpine linux\n",
    "  - image: alpine\n",
    "    name: mqtt-client\n",
    "    command: [\"sh\", \"-c\"]\n",
    "    args: [\"apk add mosquitto-clients mqttui && sleep infinity\"]\n",
    "    volumeMounts:\n",
    "    - name: mq-sat\n",
    "      mountPath: /var/run/secrets/tokens\n",
    "    - name: trust-bundle\n",
    "      mountPath: /var/run/certs\n",
    "  volumes:\n",
    "  - name: mq-sat\n",
    "    projected:\n",
    "      sources:\n",
    "      - serviceAccountToken:\n",
    "          path: mq-sat\n",
    "          audience: aio-mq # Must match audience in BrokerAuthentication\n",
    "          expirationSeconds: 86400\n",
    "  - name: trust-bundle\n",
    "    configMap:\n",
    "      name: aio-ca-trust-bundle-test-only # Default root CA cert\n",
    "```\n",
    "\n",
    "<div class=\"alert alert-block alert-warning\">\n",
    "    <b>CAUTION:</b> This configuration isn't secure. Don't use this configuration in a production environment.\n",
    "</div>\n",
    "\n",
    "1. When the **mqtt-client** pod is running, run the following command to create a shell environment in the pod you created:\n",
    "\n",
    "    ```console\n",
    "    kubectl exec --stdin --tty mqtt-client -n azure-iot-operations -- sh\n",
    "    ```\n",
    "\n",
    "1. At the shell in the **mqtt-client** pod, run the following command to connect to the MQ broker using the **mqttui** tool:\n",
    "\n",
    "    ```console\n",
    "    mqttui -b mqtts://aio-mq-dmqtt-frontend:8883 -u '$sat' --password $(cat /var/run/secrets/tokens/mq-sat) --insecure\n",
    "    ```"
   ]
  },
  {
   "cell_type": "markdown",
   "metadata": {},
   "source": [
    "1. Verify that the thermostat asset you added is publishing data. You can find the telemetry in the `azure-iot-operations/data` topic.\n",
    "\n",
    "    ![mqttui-output.png](media/quickstart-add-assets/mqttui-output.png)\n",
    "\n",
    "    If there's no data flowing, restart the `aio-opc-opc.tcp-1` pod.\n",
    "\n",
    "    First, find the name of your `aio-opc-opc.tcp-1` pod by using the following command:"
   ]
  },
  {
   "cell_type": "code",
   "execution_count": 23,
   "metadata": {
    "dotnet_interactive": {
     "language": "pwsh"
    },
    "polyglot_notebook": {
     "kernelName": "pwsh"
    }
   },
   "outputs": [],
   "source": [
    "$AIO_OPC_OPC=$(kubectl get pods -n azure-iot-operations | grep aio-opc-opc.tcp-1* | awk '{print $1}')"
   ]
  },
  {
   "cell_type": "markdown",
   "metadata": {},
   "source": [
    "The name of your pod looks like `aio-opc-opc.tcp-1-849dd78866-vhmz6`.\n",
    "\n",
    "Then restart the `aio-opc-opc.tcp-1` pod by using a command that looks like the following example. Use the `aio-opc-opc.tcp-1` pod name from the previous step:"
   ]
  },
  {
   "cell_type": "code",
   "execution_count": 24,
   "metadata": {
    "dotnet_interactive": {
     "language": "pwsh"
    },
    "polyglot_notebook": {
     "kernelName": "pwsh"
    }
   },
   "outputs": [
    {
     "name": "stdout",
     "output_type": "stream",
     "text": [
      "pod \"aio-opc-opc.tcp-1-54d78cf79d-vx8pz\" deleted\n"
     ]
    }
   ],
   "source": [
    "kubectl delete pod $AIO_OPC_OPC -n azure-iot-operations"
   ]
  },
  {
   "cell_type": "markdown",
   "metadata": {},
   "source": [
    "The sample tags you added in the previous quickstart generate messages from your asset that look like the following examples:\n",
    "\n",
    "```json\n",
    "{\n",
    "    \"Timestamp\": \"2023-08-10T00:54:58.6572007Z\", \n",
    "    \"MessageType\": \"ua-deltaframe\",\n",
    "    \"payload\": {\n",
    "      \"temperature\": {\n",
    "        \"SourceTimestamp\": \"2023-08-10T00:54:58.2543129Z\",\n",
    "        \"Value\": 7109\n",
    "      },\n",
    "      \"Tag 10\": {\n",
    "        \"SourceTimestamp\": \"2023-08-10T00:54:58.2543482Z\",\n",
    "        \"Value\": 7109\n",
    "      }\n",
    "    },\n",
    "    \"DataSetWriterName\": \"oven\",\n",
    "    \"SequenceNumber\": 4660\n",
    "}\n",
    "```\n",
    "\n",
    "## Discover OPC UA data sources by using Akri\n",
    "\n",
    "In the previous section, you saw how to add assets manually. You can also use Azure IoT Akri to automatically discover OPC UA data sources and create Akri instance custom resources that represent the discovered devices. Currently, Akri can't detect and create assets that can be ingested into the Azure Device Registry.\n",
    "\n",
    "When you deploy Azure IoT Operations, the deployment includes the Akri discovery handler pods. To verify these pods are running, run the following command:"
   ]
  },
  {
   "cell_type": "code",
   "execution_count": 25,
   "metadata": {
    "dotnet_interactive": {
     "language": "pwsh"
    },
    "polyglot_notebook": {
     "kernelName": "pwsh"
    }
   },
   "outputs": [
    {
     "name": "stdout",
     "output_type": "stream",
     "text": [
      "aio-akri-otel-collector-6744659f9b-746ms        1/1     Running   0          71m\n",
      "aio-akri-agent-daemonset-4fd47                  1/1     Running   0          71m\n"
     ]
    }
   ],
   "source": [
    "kubectl get pods -n azure-iot-operations | grep akri"
   ]
  },
  {
   "cell_type": "code",
   "execution_count": 26,
   "metadata": {
    "dotnet_interactive": {
     "language": "pwsh"
    },
    "polyglot_notebook": {
     "kernelName": "pwsh"
    }
   },
   "outputs": [
    {
     "name": "stdout",
     "output_type": "stream",
     "text": [
      "\n",
      "aio-\u001b[7makri\u001b[0m-otel-collector-6744659f9b-746ms        1/1     Running   0          72m\n",
      "aio-\u001b[7makri\u001b[0m-agent-daemonset-4fd47                  1/1     Running   0          72m\n",
      "\n"
     ]
    }
   ],
   "source": [
    "kubectl get pods -n azure-iot-operations |  Select-String -Pattern \"akri\""
   ]
  },
  {
   "cell_type": "markdown",
   "metadata": {},
   "source": [
    "The output from the previous command looks like the following example:\n",
    "\n",
    "```console\n",
    "akri-opcua-asset-discovery-daemonset-h47zk     1/1     Running   3 (4h15m ago)    2d23h\n",
    "aio-akri-otel-collector-5c775f745b-g97qv       1/1     Running   3 (4h15m ago)    2d23h\n",
    "aio-akri-agent-daemonset-mp6v7                 1/1     Running   3 (4h15m ago)    2d23h\n",
    "```\n",
    "\n",
    "On the machine where your Kubernetes cluster is running, run the following command to apply a new configuration for the discovery handler:"
   ]
  },
  {
   "cell_type": "code",
   "execution_count": 27,
   "metadata": {
    "dotnet_interactive": {
     "language": "pwsh"
    },
    "polyglot_notebook": {
     "kernelName": "pwsh"
    }
   },
   "outputs": [
    {
     "name": "stdout",
     "output_type": "stream",
     "text": [
      "\u001b[31;1mWarning: resource configurations/akri-opcua-asset is missing the kubectl.kubernetes.io/last-applied-configuration annotation which is required by kubectl apply. kubectl apply should only be used on resources created declaratively by either kubectl create --save-config or kubectl apply. The missing annotation will be patched automatically.\u001b[0m\n",
      "configuration.akri.sh/akri-opcua-asset configured\n"
     ]
    }
   ],
   "source": [
    "kubectl apply -f https://raw.githubusercontent.com/Azure-Samples/explore-iot-operations/main/samples/quickstarts/akri-opcua-asset.yaml"
   ]
  },
  {
   "cell_type": "markdown",
   "metadata": {},
   "source": [
    "The following snippet shows the YAML file that you applied:\n",
    "\n",
    "```yaml\n",
    "apiVersion: akri.sh/v0\n",
    "kind: Configuration\n",
    "metadata:\n",
    "  name: akri-opcua-asset\n",
    "  namespace: azure-iot-operations\n",
    "spec:\n",
    "  discoveryHandler: \n",
    "    name: opcua-asset\n",
    "    discoveryDetails: \"opcuaDiscoveryMethod:\\n  - asset:\\n      endpointUrl: \\\"\topc.tcp://opcplc-000000:50000\\\"\\n      useSecurity: false\\n      autoAcceptUntrustedCertificates: true\\n\"\n",
    "  brokerProperties: {}\n",
    "  capacity: 1\n",
    "```\n",
    "\n",
    "To verify the configuration, run the following command to view the Akri instances that represent the OPC UA data sources discovered by Akri:"
   ]
  },
  {
   "cell_type": "code",
   "execution_count": 7,
   "metadata": {
    "dotnet_interactive": {
     "language": "pwsh"
    },
    "polyglot_notebook": {
     "kernelName": "pwsh"
    }
   },
   "outputs": [
    {
     "name": "stdout",
     "output_type": "stream",
     "text": [
      "NAME                      CONFIG             SHARED   NODES                          AGE\n",
      "akri-opcua-asset-dbdef0   akri-opcua-asset   true     [\"k3d-k3s-default-server-0\"]   2m17s\n"
     ]
    }
   ],
   "source": [
    "kubectl get akrii -n azure-iot-operations"
   ]
  },
  {
   "cell_type": "markdown",
   "metadata": {},
   "source": [
    "Note that it may take a few minutes for the instance to show up.\n",
    "\n",
    "The output from the previous command looks like the following example. You may need to wait for a few seconds for the Akri instance to be created:\n",
    "\n",
    "```console\n",
    "NAMESPACE              NAME                      CONFIG             SHARED   NODES            AGE\n",
    "azure-iot-operations   akri-opcua-asset-dbdef0   akri-opcua-asset   true     [\"dom-aio-vm\"]   35m\n",
    "```\n",
    "\n",
    "Now you can use these resources in the local cluster namespace.\n",
    "\n",
    "## How did we solve the problem?\n",
    "\n",
    "In this quickstart, you added an asset endpoint and then defined an asset and tags. The assets and tags model data from the OPC UA server to make the data easier to use in an MQTT broker and other downstream processes. You use the thermostat asset you defined in the next quickstart.\n",
    "\n",
    "## Clean up resources\n",
    "\n",
    "If you're not going to continue to use this deployment, delete the Kubernetes cluster that you deployed Azure IoT Operations to and remove the Azure resource group that contains the cluster.\n",
    "\n",
    "## Next step\n",
    "\n",
    "[Quickstart: Use Data Processor pipelines to process data from your OPC UA assets](quickstart-process-telemetry.md)"
   ]
  }
 ],
 "metadata": {
  "kernelspec": {
   "display_name": ".NET (C#)",
   "language": "C#",
   "name": ".net-csharp"
  },
  "language_info": {
   "name": "polyglot-notebook"
  },
  "polyglot_notebook": {
   "kernelInfo": {
    "defaultKernelName": "csharp",
    "items": [
     {
      "aliases": [],
      "name": "csharp"
     },
     {
      "aliases": [],
      "name": "pwsh"
     }
    ]
   }
  }
 },
 "nbformat": 4,
 "nbformat_minor": 2
}
